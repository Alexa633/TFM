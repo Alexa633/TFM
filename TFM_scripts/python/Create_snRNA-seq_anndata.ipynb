{
 "cells": [
  {
   "cell_type": "code",
   "execution_count": null,
   "id": "3f7d571e",
   "metadata": {},
   "outputs": [],
   "source": [
    "\"\"\"\n",
    "We will integrate the gene expression and cell-based metadata into a single AnnData object\n",
    "We will use snRNA-seq data from ROS/MAP cohort, used in Mathys etal Nature.\n",
    "Its data from XX donors in the AD continuum, obrained in the Dorso-Lateral pre-Frontal Cortex\n",
    "\n",
    "Synapse id: syn21589957\n",
    "\n",
    "Info on the pipeline used to obtain gene counts can be found here:\n",
    "   https://www.synapse.org/#!Synapse:syn16780177\n",
    "   \n",
    "The metadata include, for each cell, the major cell-type and the subsequent sub-types.\n",
    "\"\"\""
   ]
  },
  {
   "cell_type": "code",
   "execution_count": 1,
   "id": "ae4cecfe",
   "metadata": {},
   "outputs": [],
   "source": [
    "# IMPORT LIBRARIES\n",
    "# ================\n",
    "import os\n",
    "from os.path import join\n",
    "\n",
    "import gc   # garbage collector\n",
    "import pdb\n",
    "\n",
    "import numpy as np\n",
    "from scipy.sparse import csr_matrix\n",
    "import pandas as pd\n",
    "\n",
    "import anndata as ad\n",
    "import scanpy as sc\n",
    "\n"
   ]
  },
  {
   "cell_type": "code",
   "execution_count": 2,
   "id": "f14a3598",
   "metadata": {},
   "outputs": [
    {
     "name": "stdout",
     "output_type": "stream",
     "text": [
      "Load metadata\n",
      "  Number cells: 162767\n",
      "  Number genes: 23241\n",
      "Load gene expression counts\n",
      " Gene exp count mat shape: (162767, 23241)\n"
     ]
    },
    {
     "data": {
      "text/plain": [
       "0"
      ]
     },
     "execution_count": 2,
     "metadata": {},
     "output_type": "execute_result"
    }
   ],
   "source": [
    "# LOAD DATA FILES\n",
    "# ===============\n",
    "ipath = \"/data/theshire/Users/vmontalb/student/2022-Alexandra-UOC/scRNA-AD/data\"\n",
    "opath = \"/data/theshire/Users/vmontalb/student/2022-Alexandra-UOC/scRNA-AD/anndata\"\n",
    "\n",
    "iexpr = join(ipath,\"ROSMAP_Brain.snRNAseq_counts_sparse_format_20201107.csv\")\n",
    "imetadata = join(ipath,\"ROSMAP_Brain.snRNAseq_metadata_cells_20201107.csv\")\n",
    "igenename = join(ipath,\"ROSMAP_Brain.snRNAseq_metadata_genes_20201107.csv\")\n",
    "\n",
    "# Load metadata\n",
    "print(f'Load metadata')\n",
    "metadf = pd.read_csv(imetadata)\n",
    "numsubj = metadf.shape[0]\n",
    "print(f'  Number cells: {numsubj}')\n",
    "\n",
    "genedf = pd.read_csv(igenename)\n",
    "numgenes = genedf.shape[0]\n",
    "print(f'  Number genes: {numgenes}')\n",
    "\n",
    "# Load gene count\n",
    "\"\"\"\n",
    "The .csv file is stored in a sparse format. Thus we will first load a dataframe, and use the columns to create\n",
    "a scipy sparse matrix. From there, to a numpy array\n",
    "\"\"\"\n",
    "print(f'Load gene expression counts')\n",
    "numsubj = metadf.shape[0]\n",
    "numgenes = genedf.shape[0]\n",
    "expdf = pd.read_csv(iexpr, delimiter=\",\")\n",
    "\n",
    "cols = expdf[\"i\"].values  -  1     # Gene position // # We extract 1 b/c python index starts at 0, not 1\n",
    "rows = expdf[\"j\"].values  -  1     # Cell position // # We extract 1 b/c python index starts at 0, not 1  \n",
    "data = expdf[\"x\"].values\n",
    "\n",
    "genemat = csr_matrix((data, (rows, cols)), shape=(numsubj, numgenes)).toarray()\n",
    "print(f' Gene exp count mat shape: {genemat.shape}')\n",
    "\n",
    "# Remove temporary files (memory issues)\n",
    "del(expdf)\n",
    "del(cols)\n",
    "del(rows)\n",
    "del(data)\n",
    "gc.collect()"
   ]
  },
  {
   "cell_type": "code",
   "execution_count": 3,
   "id": "9d6afb21",
   "metadata": {},
   "outputs": [
    {
     "name": "stdout",
     "output_type": "stream",
     "text": [
      "Generate AnnData\n",
      "Add metadata to AnnData\n",
      "Subset AnnData to reduce RAM memory requirements\n",
      "Save AnnData\n"
     ]
    },
    {
     "name": "stderr",
     "output_type": "stream",
     "text": [
      "/home/vmontalb/.conda/python/py38/lib/python3.8/site-packages/anndata/_core/anndata.py:1235: ImplicitModificationWarning: Trying to modify attribute `.obs` of view, initializing view as actual.\n",
      "  df[key] = c\n",
      "/home/vmontalb/.conda/python/py38/lib/python3.8/contextlib.py:120: FutureWarning: X.dtype being converted to np.float32 from int64. In the next version of anndata (0.9) conversion will not be automatic. Pass dtype explicitly to avoid this warning. Pass `AnnData(X, dtype=X.dtype, ...)` to get the future behavour.\n",
      "  next(self.gen)\n"
     ]
    }
   ],
   "source": [
    "# GENERATE ANNDATA\n",
    "# ================\n",
    "print(f'Generate AnnData')\n",
    "annout = ad.AnnData(genemat, dtype=int)   # init AnnData object\n",
    "\n",
    "annout.obs_names = [idx for idx in metadf[\"cell_name\"].values] \n",
    "annout.var_names = [idx for idx in genedf['x'].values]\n",
    "\n",
    "print(f'Add metadata to AnnData')\n",
    "annout.obs['speciment_ID'] = metadf[\"specimenID\"].values\n",
    "annout.obs['major_cell_type'] = metadf[\"broad_class\"].values\n",
    "annout.obs['subtype_cell_type'] = metadf[\"subtype\"].values\n",
    "\n",
    "annout.var[\"geneID\"] = genedf['x'].values\n",
    "\n",
    "\n",
    "print(f'Subset AnnData to reduce RAM memory requirements')\n",
    "filt_types = {\"Exc.Exc.L3\" : 5,\n",
    "              \"Astr.1\" : 4,\n",
    "              \"Olig.1\" : 3,\n",
    "              \"Exc.Exc.L5\" : 3, \n",
    "              \"Exc.Exc.RORB_L5_IT_2\" : 3,\n",
    "              \"Olig.2\" : 3,\n",
    "              \"Olig.3\" : 3,\n",
    "              \"OPC.NA\" : 2,\n",
    "              \"Inh.Inh.PVALB_not_chandelier\" : 2,\n",
    "              \"Inh.Inh.VIP\" : 2,\n",
    "              \"Inh.Inh.SST\" : 2,\n",
    "              \"Astr.2\" : 2,\n",
    "              \"Olig.4\" : 2}\n",
    "\n",
    "filt_idx = list()\n",
    "for ccell in filt_types:\n",
    "    poscell = np.where(annout.obs['subtype_cell_type'].values  ==  ccell)[0]\n",
    "    setlength = np.round( poscell.size / filt_types[ccell]).astype(int)\n",
    "    randset = np.random.choice(poscell,size=setlength, replace=False)\n",
    "    filt_idx.extend(randset)\n",
    "\n",
    "filt_idx = np.in1d(range(numsubj),np.array(filt_idx))\n",
    "filt_anndat = annout[~filt_idx,:]\n",
    "\n",
    "    \n",
    "print(f'Save AnnData')\n",
    "ofile = join(opath,\"snRNA-AD.h5ad\")\n",
    "#filt_anndat.write(ofile)\n",
    "filt_anndat.write(ofile, compression=\"gzip\")  # Might take a while b/c we are compressing the file"
   ]
  },
  {
   "cell_type": "code",
   "execution_count": 1,
   "id": "fdd7d04d",
   "metadata": {},
   "outputs": [
    {
     "ename": "NameError",
     "evalue": "name 'anndat' is not defined",
     "output_type": "error",
     "traceback": [
      "\u001b[1;31m---------------------------------------------------------------------------\u001b[0m",
      "\u001b[1;31mNameError\u001b[0m                                 Traceback (most recent call last)",
      "\u001b[1;32m~\\AppData\\Local\\Temp\\ipykernel_25608\\1950283239.py\u001b[0m in \u001b[0;36m<module>\u001b[1;34m\u001b[0m\n\u001b[1;32m----> 1\u001b[1;33m \u001b[0manndat\u001b[0m\u001b[1;33m.\u001b[0m\u001b[0mobs\u001b[0m\u001b[1;33m\u001b[0m\u001b[1;33m\u001b[0m\u001b[0m\n\u001b[0m",
      "\u001b[1;31mNameError\u001b[0m: name 'anndat' is not defined"
     ]
    }
   ],
   "source": [
    "anndat.obs"
   ]
  },
  {
   "cell_type": "code",
   "execution_count": 12,
   "id": "2e7cd585",
   "metadata": {
    "scrolled": true
   },
   "outputs": [
    {
     "data": {
      "image/png": "[encoded data removed]",
      "text/plain": [
       "<Figure size 538.128x288 with 1 Axes>"
      ]
     },
     "metadata": {
      "needs_background": "light"
     },
     "output_type": "display_data"
    },
    {
     "name": "stderr",
     "output_type": "stream",
     "text": [
      "/home/vmontalb/.conda/python/py38/lib/python3.8/site-packages/anndata/compat/_overloaded_dict.py:106: ImplicitModificationWarning: Trying to modify attribute `._uns` of view, initializing view as actual.\n",
      "  self.data[key] = value\n",
      "/home/vmontalb/.conda/python/py38/lib/python3.8/contextlib.py:120: FutureWarning: X.dtype being converted to np.float32 from int64. In the next version of anndata (0.9) conversion will not be automatic. Pass dtype explicitly to avoid this warning. Pass `AnnData(X, dtype=X.dtype, ...)` to get the future behavour.\n",
      "  next(self.gen)\n"
     ]
    },
    {
     "data": {
      "image/png": "[encoded data removed]",
      "text/plain": [
       "<Figure size 538.128x288 with 1 Axes>"
      ]
     },
     "metadata": {
      "needs_background": "light"
     },
     "output_type": "display_data"
    }
   ],
   "source": [
    "# EXAMPLE PLOTTING\n",
    "# ================\n",
    "# Plot expression APOE by major type\n",
    "sc.pl.violin(filt_anndat, keys=['APOE'], groupby=\"major_cell_type\")\n",
    "\n",
    "# Plot expression APOE by subtypes of ONLY astrocite\n",
    "tmpadat = annout[filt_anndat.obs[\"major_cell_type\"] == \"Astr\",:]\n",
    "# Plot expression APOE by major type\n",
    "sc.pl.violin(filt_anndat, keys=['APOE'], groupby=\"subtype_cell_type\")"
   ]
  }
 ],
 "metadata": {
  "kernelspec": {
   "display_name": "Python 3 (ipykernel)",
   "language": "python",
   "name": "python3"
  },
  "language_info": {
   "codemirror_mode": {
    "name": "ipython",
    "version": 3
   },
   "file_extension": ".py",
   "mimetype": "text/x-python",
   "name": "python",
   "nbconvert_exporter": "python",
   "pygments_lexer": "ipython3",
   "version": "3.9.13"
  }
 },
 "nbformat": 4,
 "nbformat_minor": 5
}
