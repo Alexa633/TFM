{
 "cells": [
  {
   "cell_type": "code",
   "execution_count": 1,
   "id": "4982a533",
   "metadata": {},
   "outputs": [],
   "source": [
    "#Library\n",
    "import pandas as pd\n",
    "import numpy as np\n",
    "import matplotlib.pyplot as plt"
   ]
  },
  {
   "cell_type": "code",
   "execution_count": 2,
   "id": "6d692aab",
   "metadata": {},
   "outputs": [],
   "source": [
    "#Load data\n",
    "simbu_bf = pd.read_csv(r\"C:\\Users\\moren\\PycharmProjects\\TFM\\R\\simBU\\output_SimBu\\pseudobulk_even-sampling_fraction.csv\")\n",
    "simbu_af = pd.read_csv(r\"C:\\Users\\moren\\PycharmProjects\\TFM\\R\\simBU\\results_BP_SimBu\\theta.csv\")\n",
    "\n",
    "#Output path\n",
    "opath= r'C:\\Users\\moren\\PycharmProjects\\TFM\\R\\simBU'"
   ]
  },
  {
   "cell_type": "code",
   "execution_count": 3,
   "id": "ec32335d",
   "metadata": {},
   "outputs": [],
   "source": [
    "#Clean dfs before\n",
    "s_bf =simbu_bf[['Ast', 'End', 'Ex', 'In', 'Mic', 'Oli', 'Opc', 'Per']]\n",
    "s_af=simbu_af[['Ast', 'End', 'Ex', 'In', 'Mic', 'Oli', 'Opc', 'Per']]\n",
    "\n",
    "#Calculate means by cols\n",
    "means_bf = s_bf.mean()\n",
    "means_af=s_af.mean()"
   ]
  },
  {
   "cell_type": "code",
   "execution_count": 6,
   "id": "1e7cfb94",
   "metadata": {},
   "outputs": [
    {
     "data": {
      "text/html": [
       "<div>\n",
       "<style scoped>\n",
       "    .dataframe tbody tr th:only-of-type {\n",
       "        vertical-align: middle;\n",
       "    }\n",
       "\n",
       "    .dataframe tbody tr th {\n",
       "        vertical-align: top;\n",
       "    }\n",
       "\n",
       "    .dataframe thead th {\n",
       "        text-align: right;\n",
       "    }\n",
       "</style>\n",
       "<table border=\"1\" class=\"dataframe\">\n",
       "  <thead>\n",
       "    <tr style=\"text-align: right;\">\n",
       "      <th></th>\n",
       "      <th>Ast</th>\n",
       "      <th>End</th>\n",
       "      <th>Ex</th>\n",
       "      <th>In</th>\n",
       "      <th>Mic</th>\n",
       "      <th>Oli</th>\n",
       "      <th>Opc</th>\n",
       "      <th>Per</th>\n",
       "    </tr>\n",
       "  </thead>\n",
       "  <tbody>\n",
       "    <tr>\n",
       "      <th>Before\\n deconvolution</th>\n",
       "      <td>0.127622</td>\n",
       "      <td>0.123108</td>\n",
       "      <td>0.123346</td>\n",
       "      <td>0.123737</td>\n",
       "      <td>0.124734</td>\n",
       "      <td>0.124784</td>\n",
       "      <td>0.124424</td>\n",
       "      <td>0.128245</td>\n",
       "    </tr>\n",
       "    <tr>\n",
       "      <th>After\\n deconvolution</th>\n",
       "      <td>0.114130</td>\n",
       "      <td>0.084242</td>\n",
       "      <td>0.282122</td>\n",
       "      <td>0.196915</td>\n",
       "      <td>0.047560</td>\n",
       "      <td>0.061584</td>\n",
       "      <td>0.139669</td>\n",
       "      <td>0.073778</td>\n",
       "    </tr>\n",
       "  </tbody>\n",
       "</table>\n",
       "</div>"
      ],
      "text/plain": [
       "                             Ast       End        Ex        In       Mic  \\\n",
       "Before\\n deconvolution  0.127622  0.123108  0.123346  0.123737  0.124734   \n",
       "After\\n deconvolution   0.114130  0.084242  0.282122  0.196915  0.047560   \n",
       "\n",
       "                             Oli       Opc       Per  \n",
       "Before\\n deconvolution  0.124784  0.124424  0.128245  \n",
       "After\\n deconvolution   0.061584  0.139669  0.073778  "
      ]
     },
     "execution_count": 6,
     "metadata": {},
     "output_type": "execute_result"
    }
   ],
   "source": [
    "#Naming rows\n",
    "name = ['Before\\n deconvolution', 'After\\n deconvolution']\n",
    "\n",
    "#Create df\n",
    "df = pd.concat([means_bf, means_af], axis=1, keys= name).transpose()\n",
    "df"
   ]
  },
  {
   "cell_type": "code",
   "execution_count": 8,
   "id": "11578720",
   "metadata": {},
   "outputs": [
    {
     "data": {
      "image/png": "[encoded data removed]",
      "text/plain": [
       "<Figure size 640x480 with 1 Axes>"
      ]
     },
     "metadata": {},
     "output_type": "display_data"
    }
   ],
   "source": [
    "#Create barplot\n",
    "df.plot(kind='bar', stacked=True, \n",
    "        rot=0.8, align='center',\n",
    "        title='Simulated Data Before vs After Deconvolution',\n",
    "        width=0.2, legend='reverse', ylabel='Cell Fraction')\n",
    "\n",
    "#Save the plot\n",
    "plt.savefig(opath + '\\simbu_stackedbarplot.png', dpi = 300)\n",
    "\n",
    "#Show plot\n",
    "plt.show()"
   ]
  }
 ],
 "metadata": {
  "kernelspec": {
   "display_name": "Python 3 (ipykernel)",
   "language": "python",
   "name": "python3"
  },
  "language_info": {
   "codemirror_mode": {
    "name": "ipython",
    "version": 3
   },
   "file_extension": ".py",
   "mimetype": "text/x-python",
   "name": "python",
   "nbconvert_exporter": "python",
   "pygments_lexer": "ipython3",
   "version": "3.9.13"
  }
 },
 "nbformat": 4,
 "nbformat_minor": 5
}
